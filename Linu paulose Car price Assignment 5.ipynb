{
 "cells": [
  {
   "cell_type": "code",
   "execution_count": 140,
   "id": "0bd66f54",
   "metadata": {},
   "outputs": [],
   "source": [
    "import pandas as pd\n",
    "import numpy as np\n",
    "import matplotlib.pyplot as plt\n",
    "import seaborn as sns"
   ]
  },
  {
   "cell_type": "code",
   "execution_count": 141,
   "id": "a7f85bd8",
   "metadata": {},
   "outputs": [],
   "source": [
    "data=pd.read_csv(\"car_age_price.csv\")"
   ]
  },
  {
   "cell_type": "code",
   "execution_count": 142,
   "id": "1ba6258e",
   "metadata": {},
   "outputs": [
    {
     "data": {
      "text/html": [
       "<div>\n",
       "<style scoped>\n",
       "    .dataframe tbody tr th:only-of-type {\n",
       "        vertical-align: middle;\n",
       "    }\n",
       "\n",
       "    .dataframe tbody tr th {\n",
       "        vertical-align: top;\n",
       "    }\n",
       "\n",
       "    .dataframe thead th {\n",
       "        text-align: right;\n",
       "    }\n",
       "</style>\n",
       "<table border=\"1\" class=\"dataframe\">\n",
       "  <thead>\n",
       "    <tr style=\"text-align: right;\">\n",
       "      <th></th>\n",
       "      <th>Year</th>\n",
       "      <th>Price</th>\n",
       "    </tr>\n",
       "  </thead>\n",
       "  <tbody>\n",
       "    <tr>\n",
       "      <th>0</th>\n",
       "      <td>2018</td>\n",
       "      <td>465000</td>\n",
       "    </tr>\n",
       "    <tr>\n",
       "      <th>1</th>\n",
       "      <td>2019</td>\n",
       "      <td>755000</td>\n",
       "    </tr>\n",
       "    <tr>\n",
       "      <th>2</th>\n",
       "      <td>2019</td>\n",
       "      <td>700000</td>\n",
       "    </tr>\n",
       "    <tr>\n",
       "      <th>3</th>\n",
       "      <td>2018</td>\n",
       "      <td>465000</td>\n",
       "    </tr>\n",
       "    <tr>\n",
       "      <th>4</th>\n",
       "      <td>2018</td>\n",
       "      <td>465000</td>\n",
       "    </tr>\n",
       "    <tr>\n",
       "      <th>...</th>\n",
       "      <td>...</td>\n",
       "      <td>...</td>\n",
       "    </tr>\n",
       "    <tr>\n",
       "      <th>107</th>\n",
       "      <td>2016</td>\n",
       "      <td>375000</td>\n",
       "    </tr>\n",
       "    <tr>\n",
       "      <th>108</th>\n",
       "      <td>2014</td>\n",
       "      <td>300000</td>\n",
       "    </tr>\n",
       "    <tr>\n",
       "      <th>109</th>\n",
       "      <td>2015</td>\n",
       "      <td>425000</td>\n",
       "    </tr>\n",
       "    <tr>\n",
       "      <th>110</th>\n",
       "      <td>2016</td>\n",
       "      <td>420000</td>\n",
       "    </tr>\n",
       "    <tr>\n",
       "      <th>111</th>\n",
       "      <td>2015</td>\n",
       "      <td>425000</td>\n",
       "    </tr>\n",
       "  </tbody>\n",
       "</table>\n",
       "<p>112 rows × 2 columns</p>\n",
       "</div>"
      ],
      "text/plain": [
       "     Year   Price\n",
       "0    2018  465000\n",
       "1    2019  755000\n",
       "2    2019  700000\n",
       "3    2018  465000\n",
       "4    2018  465000\n",
       "..    ...     ...\n",
       "107  2016  375000\n",
       "108  2014  300000\n",
       "109  2015  425000\n",
       "110  2016  420000\n",
       "111  2015  425000\n",
       "\n",
       "[112 rows x 2 columns]"
      ]
     },
     "execution_count": 142,
     "metadata": {},
     "output_type": "execute_result"
    }
   ],
   "source": [
    "data"
   ]
  },
  {
   "cell_type": "code",
   "execution_count": 143,
   "id": "d8cb2ae4",
   "metadata": {},
   "outputs": [
    {
     "data": {
      "text/plain": [
       "(112, 2)"
      ]
     },
     "execution_count": 143,
     "metadata": {},
     "output_type": "execute_result"
    }
   ],
   "source": [
    "data.shape"
   ]
  },
  {
   "cell_type": "code",
   "execution_count": 144,
   "id": "eb0bc176",
   "metadata": {},
   "outputs": [
    {
     "data": {
      "text/html": [
       "<div>\n",
       "<style scoped>\n",
       "    .dataframe tbody tr th:only-of-type {\n",
       "        vertical-align: middle;\n",
       "    }\n",
       "\n",
       "    .dataframe tbody tr th {\n",
       "        vertical-align: top;\n",
       "    }\n",
       "\n",
       "    .dataframe thead th {\n",
       "        text-align: right;\n",
       "    }\n",
       "</style>\n",
       "<table border=\"1\" class=\"dataframe\">\n",
       "  <thead>\n",
       "    <tr style=\"text-align: right;\">\n",
       "      <th></th>\n",
       "      <th>Year</th>\n",
       "      <th>Price</th>\n",
       "    </tr>\n",
       "  </thead>\n",
       "  <tbody>\n",
       "    <tr>\n",
       "      <th>count</th>\n",
       "      <td>112.000000</td>\n",
       "      <td>112.000000</td>\n",
       "    </tr>\n",
       "    <tr>\n",
       "      <th>mean</th>\n",
       "      <td>2016.669643</td>\n",
       "      <td>483866.044643</td>\n",
       "    </tr>\n",
       "    <tr>\n",
       "      <th>std</th>\n",
       "      <td>1.629616</td>\n",
       "      <td>91217.450533</td>\n",
       "    </tr>\n",
       "    <tr>\n",
       "      <th>min</th>\n",
       "      <td>2013.000000</td>\n",
       "      <td>300000.000000</td>\n",
       "    </tr>\n",
       "    <tr>\n",
       "      <th>25%</th>\n",
       "      <td>2015.000000</td>\n",
       "      <td>423750.000000</td>\n",
       "    </tr>\n",
       "    <tr>\n",
       "      <th>50%</th>\n",
       "      <td>2017.000000</td>\n",
       "      <td>500000.000000</td>\n",
       "    </tr>\n",
       "    <tr>\n",
       "      <th>75%</th>\n",
       "      <td>2017.000000</td>\n",
       "      <td>550000.000000</td>\n",
       "    </tr>\n",
       "    <tr>\n",
       "      <th>max</th>\n",
       "      <td>2020.000000</td>\n",
       "      <td>755000.000000</td>\n",
       "    </tr>\n",
       "  </tbody>\n",
       "</table>\n",
       "</div>"
      ],
      "text/plain": [
       "              Year          Price\n",
       "count   112.000000     112.000000\n",
       "mean   2016.669643  483866.044643\n",
       "std       1.629616   91217.450533\n",
       "min    2013.000000  300000.000000\n",
       "25%    2015.000000  423750.000000\n",
       "50%    2017.000000  500000.000000\n",
       "75%    2017.000000  550000.000000\n",
       "max    2020.000000  755000.000000"
      ]
     },
     "execution_count": 144,
     "metadata": {},
     "output_type": "execute_result"
    }
   ],
   "source": [
    "data.describe()"
   ]
  },
  {
   "cell_type": "code",
   "execution_count": 145,
   "id": "fc55b6d1",
   "metadata": {},
   "outputs": [
    {
     "data": {
      "text/plain": [
       "Year      8\n",
       "Price    35\n",
       "dtype: int64"
      ]
     },
     "execution_count": 145,
     "metadata": {},
     "output_type": "execute_result"
    }
   ],
   "source": [
    "data.nunique()"
   ]
  },
  {
   "cell_type": "code",
   "execution_count": 146,
   "id": "ceae5b99",
   "metadata": {},
   "outputs": [
    {
     "name": "stdout",
     "output_type": "stream",
     "text": [
      "<class 'pandas.core.frame.DataFrame'>\n",
      "RangeIndex: 112 entries, 0 to 111\n",
      "Data columns (total 2 columns):\n",
      " #   Column  Non-Null Count  Dtype\n",
      "---  ------  --------------  -----\n",
      " 0   Year    112 non-null    int64\n",
      " 1   Price   112 non-null    int64\n",
      "dtypes: int64(2)\n",
      "memory usage: 1.9 KB\n"
     ]
    }
   ],
   "source": [
    "data.info()"
   ]
  },
  {
   "cell_type": "code",
   "execution_count": 147,
   "id": "51d40aec",
   "metadata": {},
   "outputs": [
    {
     "data": {
      "text/html": [
       "<div>\n",
       "<style scoped>\n",
       "    .dataframe tbody tr th:only-of-type {\n",
       "        vertical-align: middle;\n",
       "    }\n",
       "\n",
       "    .dataframe tbody tr th {\n",
       "        vertical-align: top;\n",
       "    }\n",
       "\n",
       "    .dataframe thead th {\n",
       "        text-align: right;\n",
       "    }\n",
       "</style>\n",
       "<table border=\"1\" class=\"dataframe\">\n",
       "  <thead>\n",
       "    <tr style=\"text-align: right;\">\n",
       "      <th></th>\n",
       "      <th>Year</th>\n",
       "      <th>Price</th>\n",
       "    </tr>\n",
       "  </thead>\n",
       "  <tbody>\n",
       "    <tr>\n",
       "      <th>Year</th>\n",
       "      <td>1.000000</td>\n",
       "      <td>0.776302</td>\n",
       "    </tr>\n",
       "    <tr>\n",
       "      <th>Price</th>\n",
       "      <td>0.776302</td>\n",
       "      <td>1.000000</td>\n",
       "    </tr>\n",
       "  </tbody>\n",
       "</table>\n",
       "</div>"
      ],
      "text/plain": [
       "           Year     Price\n",
       "Year   1.000000  0.776302\n",
       "Price  0.776302  1.000000"
      ]
     },
     "execution_count": 147,
     "metadata": {},
     "output_type": "execute_result"
    }
   ],
   "source": [
    "data.corr()"
   ]
  },
  {
   "cell_type": "code",
   "execution_count": 148,
   "id": "b8793e15",
   "metadata": {},
   "outputs": [
    {
     "data": {
      "image/png": "[encoded data removed]",
      "text/plain": [
       "<Figure size 432x288 with 1 Axes>"
      ]
     },
     "metadata": {
      "needs_background": "light"
     },
     "output_type": "display_data"
    }
   ],
   "source": [
    "#Scatter plot betwen year and price\n",
    "plt.scatter(data[\"Year\"],data[\"Price\"],color=\"red\",marker=\"+\")\n",
    "plt.xlabel(\"year\")\n",
    "plt.ylabel(\"price\")\n",
    "plt.show()"
   ]
  },
  {
   "cell_type": "code",
   "execution_count": 149,
   "id": "3e1224bf",
   "metadata": {},
   "outputs": [],
   "source": [
    "#splitting x and y\n",
    "X = data.drop('Price',axis=1)\n",
    "y = data['Price']"
   ]
  },
  {
   "cell_type": "code",
   "execution_count": 150,
   "id": "6ef748bd",
   "metadata": {},
   "outputs": [],
   "source": [
    "from sklearn.model_selection import train_test_split\n",
    "X_train,X_test,y_train,y_test=train_test_split(X,y,random_state=143,test_size=0.2)"
   ]
  },
  {
   "cell_type": "markdown",
   "id": "5f7540de",
   "metadata": {},
   "source": [
    "# Linear Regression"
   ]
  },
  {
   "cell_type": "code",
   "execution_count": 151,
   "id": "26b79482",
   "metadata": {},
   "outputs": [
    {
     "data": {
      "text/plain": [
       "LinearRegression()"
      ]
     },
     "execution_count": 151,
     "metadata": {},
     "output_type": "execute_result"
    }
   ],
   "source": [
    "from sklearn.linear_model import LinearRegression\n",
    "la=LinearRegression()\n",
    "la.fit(X_train,y_train)"
   ]
  },
  {
   "cell_type": "code",
   "execution_count": 152,
   "id": "0c42802b",
   "metadata": {},
   "outputs": [
    {
     "data": {
      "text/plain": [
       "0.6159560502733572"
      ]
     },
     "execution_count": 152,
     "metadata": {},
     "output_type": "execute_result"
    }
   ],
   "source": [
    "la.score(X_test,y_test)"
   ]
  },
  {
   "cell_type": "code",
   "execution_count": 153,
   "id": "f94f6dc1",
   "metadata": {},
   "outputs": [
    {
     "data": {
      "text/plain": [
       "0.592675204435565"
      ]
     },
     "execution_count": 153,
     "metadata": {},
     "output_type": "execute_result"
    }
   ],
   "source": [
    "la.score(X_train,y_train)"
   ]
  },
  {
   "cell_type": "code",
   "execution_count": 124,
   "id": "16941e2b",
   "metadata": {},
   "outputs": [
    {
     "data": {
      "text/plain": [
       "array([411314.41929425, 498221.17907012, 411314.41929425, 498221.17907012,\n",
       "       498221.17907012, 411314.41929425, 498221.17907012, 411314.41929425,\n",
       "       498221.17907012, 411314.41929425, 498221.17907012, 628581.3187339 ,\n",
       "       541674.55895805, 498221.17907012, 498221.17907012, 585127.93884598,\n",
       "       585127.93884598, 498221.17907012, 541674.55895805, 498221.17907012,\n",
       "       498221.17907012, 411314.41929425, 541674.55895805])"
      ]
     },
     "execution_count": 124,
     "metadata": {},
     "output_type": "execute_result"
    }
   ],
   "source": [
    "la.predict(X_test)"
   ]
  },
  {
   "cell_type": "markdown",
   "id": "a64d380e",
   "metadata": {},
   "source": [
    "# Predicting the price of a 2022 second -hand grand i10"
   ]
  },
  {
   "cell_type": "code",
   "execution_count": 127,
   "id": "72e9e816",
   "metadata": {},
   "outputs": [
    {
     "data": {
      "text/plain": [
       "array([43453.37988793])"
      ]
     },
     "execution_count": 127,
     "metadata": {},
     "output_type": "execute_result"
    }
   ],
   "source": [
    "la.coef_"
   ]
  },
  {
   "cell_type": "code",
   "execution_count": 128,
   "id": "288501d1",
   "metadata": {},
   "outputs": [
    {
     "data": {
      "text/plain": [
       "-87147246.05488418"
      ]
     },
     "execution_count": 128,
     "metadata": {},
     "output_type": "execute_result"
    }
   ],
   "source": [
    "la.intercept_"
   ]
  },
  {
   "cell_type": "code",
   "execution_count": 137,
   "id": "c6fb6372",
   "metadata": {},
   "outputs": [],
   "source": [
    "#y=m*x+b equation of a straight line"
   ]
  },
  {
   "cell_type": "code",
   "execution_count": 136,
   "id": "486a76ae",
   "metadata": {},
   "outputs": [
    {
     "data": {
      "text/plain": [
       "715488.0785102844"
      ]
     },
     "execution_count": 136,
     "metadata": {},
     "output_type": "execute_result"
    }
   ],
   "source": [
    "43453.37988793*2022+(-87147246.05488418) # the expected price of 2022 second hand grandi10 is\n"
   ]
  },
  {
   "cell_type": "code",
   "execution_count": null,
   "id": "183a7e45",
   "metadata": {},
   "outputs": [],
   "source": [
    "# Best fit line"
   ]
  },
  {
   "cell_type": "code",
   "execution_count": 133,
   "id": "a0597068",
   "metadata": {},
   "outputs": [
    {
     "data": {
      "image/png": "[encoded data removed]",
      "text/plain": [
       "<Figure size 432x288 with 1 Axes>"
      ]
     },
     "metadata": {
      "needs_background": "light"
     },
     "output_type": "display_data"
    }
   ],
   "source": [
    "plt.scatter(data[\"Year\"],data[\"Price\"],color=\"red\",marker=\"+\")\n",
    "plt.xlabel(\"year\")\n",
    "plt.ylabel(\"price\")\n",
    "plt.plot(data[\"Year\"],la.predict(data[[\"Year\"]]),color=\"blue\")\n",
    "plt.show()"
   ]
  },
  {
   "cell_type": "markdown",
   "id": "376fec4d",
   "metadata": {},
   "source": [
    "# Lasso Regression"
   ]
  },
  {
   "cell_type": "code",
   "execution_count": 180,
   "id": "09fb142d",
   "metadata": {},
   "outputs": [],
   "source": [
    "X_train,X_test,y_train,y_test=train_test_split(X,y,random_state=143,test_size=0.2)"
   ]
  },
  {
   "cell_type": "code",
   "execution_count": 181,
   "id": "c836e1fc",
   "metadata": {},
   "outputs": [],
   "source": [
    "from sklearn.linear_model import Lasso"
   ]
  },
  {
   "cell_type": "code",
   "execution_count": 182,
   "id": "0bb99b22",
   "metadata": {},
   "outputs": [
    {
     "name": "stdout",
     "output_type": "stream",
     "text": [
      "53222.48168852288\n",
      "0.6159560322762454\n"
     ]
    }
   ],
   "source": [
    "model_lasso = Lasso(alpha=0.01)\n",
    "model_lasso.fit(X_train, y_train) \n",
    "\n",
    "pred_test_lasso= model_lasso.predict(X_test)\n",
    "print(np.sqrt(mean_squared_error(y_test,pred_test_lasso))) \n",
    "print(r2_score(y_test, pred_test_lasso))"
   ]
  },
  {
   "cell_type": "code",
   "execution_count": 183,
   "id": "39c9c38d",
   "metadata": {},
   "outputs": [
    {
     "data": {
      "text/plain": [
       "0.6159560322762454"
      ]
     },
     "execution_count": 183,
     "metadata": {},
     "output_type": "execute_result"
    }
   ],
   "source": [
    "model_lasso.score(X_test,y_test)"
   ]
  },
  {
   "cell_type": "markdown",
   "id": "e27f271a",
   "metadata": {},
   "source": [
    "# Ridge Regression"
   ]
  },
  {
   "cell_type": "code",
   "execution_count": 185,
   "id": "d0ad0727",
   "metadata": {},
   "outputs": [
    {
     "data": {
      "text/plain": [
       "Ridge()"
      ]
     },
     "execution_count": 185,
     "metadata": {},
     "output_type": "execute_result"
    }
   ],
   "source": [
    "from sklearn.linear_model import Ridge\n",
    "rd=Ridge(alpha=1.0)\n",
    "rd.fit(X_train,y_train)"
   ]
  },
  {
   "cell_type": "code",
   "execution_count": 186,
   "id": "53e80b62",
   "metadata": {},
   "outputs": [
    {
     "data": {
      "text/plain": [
       "0.5926657395071352"
      ]
     },
     "execution_count": 186,
     "metadata": {},
     "output_type": "execute_result"
    }
   ],
   "source": [
    "rd.score(X_train,y_train)"
   ]
  },
  {
   "cell_type": "code",
   "execution_count": 187,
   "id": "c3ef00ee",
   "metadata": {},
   "outputs": [
    {
     "data": {
      "text/plain": [
       "0.6151013668599559"
      ]
     },
     "execution_count": 187,
     "metadata": {},
     "output_type": "execute_result"
    }
   ],
   "source": [
    "rd.score(X_test,y_test)"
   ]
  },
  {
   "cell_type": "code",
   "execution_count": null,
   "id": "f1e75652",
   "metadata": {},
   "outputs": [],
   "source": [
    "# giving different values to test size to see the difference of error value"
   ]
  },
  {
   "cell_type": "code",
   "execution_count": 47,
   "id": "2840cda3",
   "metadata": {},
   "outputs": [],
   "source": [
    "X = data.drop('Price',axis=1)\n",
    "y = data['Price']"
   ]
  },
  {
   "cell_type": "code",
   "execution_count": 48,
   "id": "d042dfb6",
   "metadata": {},
   "outputs": [],
   "source": [
    "from sklearn.model_selection import train_test_split\n",
    "X_train,X_test,y_train,y_test=train_test_split(X,y,random_state=143,test_size=0.2)"
   ]
  },
  {
   "cell_type": "code",
   "execution_count": 49,
   "id": "4a209e8b",
   "metadata": {},
   "outputs": [],
   "source": [
    "from sklearn.linear_model import LinearRegression\n",
    "lr=LinearRegression()"
   ]
  },
  {
   "cell_type": "code",
   "execution_count": 50,
   "id": "4ba543b7",
   "metadata": {},
   "outputs": [],
   "source": [
    "model=lr.fit(X_train,y_train)\n",
    "prediction=model.predict(X_test)"
   ]
  },
  {
   "cell_type": "code",
   "execution_count": 51,
   "id": "f563b7dc",
   "metadata": {},
   "outputs": [],
   "source": [
    "from sklearn.metrics import mean_squared_error, r2_score"
   ]
  },
  {
   "cell_type": "code",
   "execution_count": 52,
   "id": "148c2c77",
   "metadata": {},
   "outputs": [
    {
     "name": "stdout",
     "output_type": "stream",
     "text": [
      "mean squared error is: 2832632424.3420053\n",
      "R squared value is: 0.6159560502733572\n"
     ]
    }
   ],
   "source": [
    "print(\"mean squared error is:\",mean_squared_error(y_test, prediction))\n",
    "print(\"R squared value is:\",r2_score(y_test, prediction))"
   ]
  },
  {
   "cell_type": "code",
   "execution_count": 53,
   "id": "69044e6a",
   "metadata": {},
   "outputs": [],
   "source": [
    "X_train,X_test,y_train,y_test=train_test_split(X,y,random_state=143,test_size=0.25)"
   ]
  },
  {
   "cell_type": "code",
   "execution_count": 54,
   "id": "563989f8",
   "metadata": {},
   "outputs": [],
   "source": [
    "lr=LinearRegression()\n",
    "model2=lr.fit(X_train,y_train)\n",
    "prediction2=model2.predict(X_test)\n"
   ]
  },
  {
   "cell_type": "code",
   "execution_count": 55,
   "id": "2805737b",
   "metadata": {},
   "outputs": [
    {
     "name": "stdout",
     "output_type": "stream",
     "text": [
      "mean squared error is: 2455861456.1993423\n",
      "R squared value is: 0.6963960236210189\n"
     ]
    }
   ],
   "source": [
    "print(\"mean squared error is:\",mean_squared_error(y_test, prediction2))\n",
    "print(\"R squared value is:\",r2_score(y_test, prediction2))"
   ]
  },
  {
   "cell_type": "code",
   "execution_count": 62,
   "id": "db8229d9",
   "metadata": {},
   "outputs": [],
   "source": [
    "X_train,X_test,y_train,y_test=train_test_split(X,y,random_state=143,test_size=0.3)"
   ]
  },
  {
   "cell_type": "code",
   "execution_count": 63,
   "id": "d8eb0b97",
   "metadata": {},
   "outputs": [],
   "source": [
    "lr=LinearRegression()\n",
    "model3=lr.fit(X_train,y_train)\n",
    "prediction3=model3.predict(X_test)\n"
   ]
  },
  {
   "cell_type": "code",
   "execution_count": 64,
   "id": "0f8fc678",
   "metadata": {},
   "outputs": [
    {
     "name": "stdout",
     "output_type": "stream",
     "text": [
      "mean squared error is: 2488822214.192697\n",
      "R squared value is: 0.6838279253798999\n"
     ]
    }
   ],
   "source": [
    "print(\"mean squared error is:\",mean_squared_error(y_test, prediction3))\n",
    "print(\"R squared value is:\",r2_score(y_test, prediction3))"
   ]
  },
  {
   "cell_type": "markdown",
   "id": "2ab1b105",
   "metadata": {},
   "source": [
    "# Minmaxscaler"
   ]
  },
  {
   "cell_type": "code",
   "execution_count": 65,
   "id": "82fb770f",
   "metadata": {},
   "outputs": [],
   "source": [
    "from sklearn.preprocessing import MinMaxScaler\n",
    "min_max=MinMaxScaler(feature_range=(0,1))\n",
    "X=min_max.fit_transform(X)"
   ]
  },
  {
   "cell_type": "code",
   "execution_count": 66,
   "id": "9b282d20",
   "metadata": {},
   "outputs": [
    {
     "data": {
      "text/plain": [
       "numpy.ndarray"
      ]
     },
     "execution_count": 66,
     "metadata": {},
     "output_type": "execute_result"
    }
   ],
   "source": [
    "type(X)"
   ]
  },
  {
   "cell_type": "code",
   "execution_count": 67,
   "id": "80f13a15",
   "metadata": {},
   "outputs": [],
   "source": [
    "X=pd.DataFrame(X,columns=[\"Year\"])"
   ]
  },
  {
   "cell_type": "code",
   "execution_count": 68,
   "id": "c1801bc4",
   "metadata": {},
   "outputs": [
    {
     "data": {
      "text/plain": [
       "pandas.core.frame.DataFrame"
      ]
     },
     "execution_count": 68,
     "metadata": {},
     "output_type": "execute_result"
    }
   ],
   "source": [
    "type(X)"
   ]
  },
  {
   "cell_type": "code",
   "execution_count": 69,
   "id": "a8cace69",
   "metadata": {},
   "outputs": [
    {
     "data": {
      "text/html": [
       "<div>\n",
       "<style scoped>\n",
       "    .dataframe tbody tr th:only-of-type {\n",
       "        vertical-align: middle;\n",
       "    }\n",
       "\n",
       "    .dataframe tbody tr th {\n",
       "        vertical-align: top;\n",
       "    }\n",
       "\n",
       "    .dataframe thead th {\n",
       "        text-align: right;\n",
       "    }\n",
       "</style>\n",
       "<table border=\"1\" class=\"dataframe\">\n",
       "  <thead>\n",
       "    <tr style=\"text-align: right;\">\n",
       "      <th></th>\n",
       "      <th>Year</th>\n",
       "    </tr>\n",
       "  </thead>\n",
       "  <tbody>\n",
       "    <tr>\n",
       "      <th>count</th>\n",
       "      <td>112.000000</td>\n",
       "    </tr>\n",
       "    <tr>\n",
       "      <th>mean</th>\n",
       "      <td>0.524235</td>\n",
       "    </tr>\n",
       "    <tr>\n",
       "      <th>std</th>\n",
       "      <td>0.232802</td>\n",
       "    </tr>\n",
       "    <tr>\n",
       "      <th>min</th>\n",
       "      <td>0.000000</td>\n",
       "    </tr>\n",
       "    <tr>\n",
       "      <th>25%</th>\n",
       "      <td>0.285714</td>\n",
       "    </tr>\n",
       "    <tr>\n",
       "      <th>50%</th>\n",
       "      <td>0.571429</td>\n",
       "    </tr>\n",
       "    <tr>\n",
       "      <th>75%</th>\n",
       "      <td>0.571429</td>\n",
       "    </tr>\n",
       "    <tr>\n",
       "      <th>max</th>\n",
       "      <td>1.000000</td>\n",
       "    </tr>\n",
       "  </tbody>\n",
       "</table>\n",
       "</div>"
      ],
      "text/plain": [
       "             Year\n",
       "count  112.000000\n",
       "mean     0.524235\n",
       "std      0.232802\n",
       "min      0.000000\n",
       "25%      0.285714\n",
       "50%      0.571429\n",
       "75%      0.571429\n",
       "max      1.000000"
      ]
     },
     "execution_count": 69,
     "metadata": {},
     "output_type": "execute_result"
    }
   ],
   "source": [
    "X.describe()"
   ]
  },
  {
   "cell_type": "code",
   "execution_count": 72,
   "id": "5ef8580a",
   "metadata": {},
   "outputs": [],
   "source": [
    "X_train,X_test,y_train,y_test=train_test_split(X,y,random_state=143,test_size=0.25)"
   ]
  },
  {
   "cell_type": "code",
   "execution_count": 73,
   "id": "d8354c91",
   "metadata": {},
   "outputs": [],
   "source": [
    "lr=LinearRegression()\n",
    "model4=lr.fit(X_train,y_train)\n",
    "prediction4=model4.predict(X_test)\n"
   ]
  },
  {
   "cell_type": "code",
   "execution_count": 74,
   "id": "b52ffcce",
   "metadata": {},
   "outputs": [
    {
     "name": "stdout",
     "output_type": "stream",
     "text": [
      "mean squared error is: 2455861456.199367\n",
      "R squared value is: 0.6963960236210158\n"
     ]
    }
   ],
   "source": [
    "print(\"mean squared error is:\",mean_squared_error(y_test, prediction4))\n",
    "print(\"R squared value is:\",r2_score(y_test, prediction4))"
   ]
  },
  {
   "cell_type": "markdown",
   "id": "d43ff5da",
   "metadata": {},
   "source": [
    "# Standardscaler"
   ]
  },
  {
   "cell_type": "code",
   "execution_count": 139,
   "id": "79ee1c48",
   "metadata": {},
   "outputs": [],
   "source": [
    "from sklearn.preprocessing import StandardScaler\n",
    "std_scalr=StandardScaler()\n",
    "X=std_scalr.fit_transform(X)\n"
   ]
  },
  {
   "cell_type": "code",
   "execution_count": 78,
   "id": "052b14ad",
   "metadata": {},
   "outputs": [
    {
     "data": {
      "text/plain": [
       "numpy.ndarray"
      ]
     },
     "execution_count": 78,
     "metadata": {},
     "output_type": "execute_result"
    }
   ],
   "source": [
    "type(X)"
   ]
  },
  {
   "cell_type": "code",
   "execution_count": 79,
   "id": "fc7d74d6",
   "metadata": {},
   "outputs": [],
   "source": [
    "X=pd.DataFrame(X,columns=[\"Year\"])"
   ]
  },
  {
   "cell_type": "code",
   "execution_count": 80,
   "id": "21b89ea9",
   "metadata": {},
   "outputs": [
    {
     "data": {
      "text/html": [
       "<div>\n",
       "<style scoped>\n",
       "    .dataframe tbody tr th:only-of-type {\n",
       "        vertical-align: middle;\n",
       "    }\n",
       "\n",
       "    .dataframe tbody tr th {\n",
       "        vertical-align: top;\n",
       "    }\n",
       "\n",
       "    .dataframe thead th {\n",
       "        text-align: right;\n",
       "    }\n",
       "</style>\n",
       "<table border=\"1\" class=\"dataframe\">\n",
       "  <thead>\n",
       "    <tr style=\"text-align: right;\">\n",
       "      <th></th>\n",
       "      <th>Year</th>\n",
       "    </tr>\n",
       "  </thead>\n",
       "  <tbody>\n",
       "    <tr>\n",
       "      <th>count</th>\n",
       "      <td>1.120000e+02</td>\n",
       "    </tr>\n",
       "    <tr>\n",
       "      <th>mean</th>\n",
       "      <td>4.361590e-17</td>\n",
       "    </tr>\n",
       "    <tr>\n",
       "      <th>std</th>\n",
       "      <td>1.004494e+00</td>\n",
       "    </tr>\n",
       "    <tr>\n",
       "      <th>min</th>\n",
       "      <td>-2.261967e+00</td>\n",
       "    </tr>\n",
       "    <tr>\n",
       "      <th>25%</th>\n",
       "      <td>-1.029167e+00</td>\n",
       "    </tr>\n",
       "    <tr>\n",
       "      <th>50%</th>\n",
       "      <td>2.036320e-01</td>\n",
       "    </tr>\n",
       "    <tr>\n",
       "      <th>75%</th>\n",
       "      <td>2.036320e-01</td>\n",
       "    </tr>\n",
       "    <tr>\n",
       "      <th>max</th>\n",
       "      <td>2.052831e+00</td>\n",
       "    </tr>\n",
       "  </tbody>\n",
       "</table>\n",
       "</div>"
      ],
      "text/plain": [
       "               Year\n",
       "count  1.120000e+02\n",
       "mean   4.361590e-17\n",
       "std    1.004494e+00\n",
       "min   -2.261967e+00\n",
       "25%   -1.029167e+00\n",
       "50%    2.036320e-01\n",
       "75%    2.036320e-01\n",
       "max    2.052831e+00"
      ]
     },
     "execution_count": 80,
     "metadata": {},
     "output_type": "execute_result"
    }
   ],
   "source": [
    "X.describe()"
   ]
  },
  {
   "cell_type": "code",
   "execution_count": 83,
   "id": "58bc0e62",
   "metadata": {},
   "outputs": [],
   "source": [
    "X_train,X_test,y_train,y_test=train_test_split(X,y,random_state=143,test_size=0.25)"
   ]
  },
  {
   "cell_type": "code",
   "execution_count": 84,
   "id": "92bfaa0f",
   "metadata": {},
   "outputs": [],
   "source": [
    "lr=LinearRegression()\n",
    "model5=lr.fit(X_train,y_train)\n",
    "prediction5=model5.predict(X_test)\n"
   ]
  },
  {
   "cell_type": "code",
   "execution_count": 85,
   "id": "fa2c58f0",
   "metadata": {},
   "outputs": [
    {
     "name": "stdout",
     "output_type": "stream",
     "text": [
      "mean squared error is: 2455861456.1993675\n",
      "R squared value is: 0.6963960236210158\n"
     ]
    }
   ],
   "source": [
    "print(\"mean squared error is:\",mean_squared_error(y_test, prediction5))\n",
    "print(\"R squared value is:\",r2_score(y_test, prediction5))"
   ]
  }
 ],
 "metadata": {
  "kernelspec": {
   "display_name": "Python 3 (ipykernel)",
   "language": "python",
   "name": "python3"
  },
  "language_info": {
   "codemirror_mode": {
    "name": "ipython",
    "version": 3
   },
   "file_extension": ".py",
   "mimetype": "text/x-python",
   "name": "python",
   "nbconvert_exporter": "python",
   "pygments_lexer": "ipython3",
   "version": "3.9.12"
  }
 },
 "nbformat": 4,
 "nbformat_minor": 5
}
